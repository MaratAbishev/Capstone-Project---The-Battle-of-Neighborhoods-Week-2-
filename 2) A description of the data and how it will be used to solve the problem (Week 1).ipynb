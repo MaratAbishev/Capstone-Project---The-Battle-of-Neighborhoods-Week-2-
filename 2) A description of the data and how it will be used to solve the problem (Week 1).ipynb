{
 "cells": [
  {
   "cell_type": "markdown",
   "metadata": {},
   "source": [
    "# A description of the data and how it will be used to solve the problem"
   ]
  },
  {
   "cell_type": "markdown",
   "metadata": {},
   "source": [
    "Data Description:\n",
    "The dataset is available for free on the Internet at the dataset link: https://geo.nyu.edu/catalog/nyu_2451_34572\n",
    "For convenience, the files have been downloaded and placed on the server, so you can simply run the wget command and access the data."
   ]
  },
  {
   "cell_type": "markdown",
   "metadata": {},
   "source": [
    "To determine the characteristics of our competitors' establishments in Manhattan, we first need to find out the number of sushi bars in Manhattan, as well as their location.\n",
    "We then use the Google Map API to find their geographic coordinates based on their postal codes.\n",
    "Next, we use the Google Map API to find their geographic coordinates for several places (for example 3-5) shortlisted for our sushi bar."
   ]
  },
  {
   "cell_type": "markdown",
   "metadata": {},
   "source": [
    "The main libraries used for project development:\n",
    "\n",
    "Pandas: for creating and manipulating data frames.\n",
    "Scikit Learn: for importing k-means clustering.\n",
    "JSON: A library for handling JSON files.\n",
    "Beautiful Soup and Requests: Undo and a library for handling HTTP requests.\n",
    "Folium: A Python visualization library will be used to visualize the cluster distribution of neighborhoods using an interactive leaflet map.\n",
    "XML: for separating data from presentation, and XML stores data in text format.\n",
    "Geocoder: to get location data.\n",
    "Matplotlib: Python plotting module."
   ]
  }
 ],
 "metadata": {
  "kernelspec": {
   "display_name": "Python 3",
   "language": "python",
   "name": "python3"
  },
  "language_info": {
   "codemirror_mode": {
    "name": "ipython",
    "version": 3
   },
   "file_extension": ".py",
   "mimetype": "text/x-python",
   "name": "python",
   "nbconvert_exporter": "python",
   "pygments_lexer": "ipython3",
   "version": "3.8.5"
  }
 },
 "nbformat": 4,
 "nbformat_minor": 4
}
