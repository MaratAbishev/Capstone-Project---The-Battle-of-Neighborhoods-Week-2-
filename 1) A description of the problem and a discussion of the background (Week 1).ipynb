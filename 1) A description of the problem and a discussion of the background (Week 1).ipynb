{
 "cells": [
  {
   "cell_type": "markdown",
   "metadata": {},
   "source": [
    "# A description of the problem and a discussion of the background"
   ]
  },
  {
   "cell_type": "markdown",
   "metadata": {},
   "source": [
    "Introduction:\n",
    "New York ... is one of the few cities with an incredible mix of cuisines from around the world. Here, in every district, you can taste dishes of different nations.\n",
    "New York is an \"island\" city. In addition to Manhattan, it includes Staten Island, the western part of Long Island, part of the North American mainland (the Bronx area) and several islets in New York Harbor.\n",
    "Lower New York Bay is considered the \"lower\" bay of the city, Upper New York Bay is the \"upper\" one. Above it is the narrow island of Manhattan (length - 20 km, width - 4 km, area - 60 sq. Km)."
   ]
  },
  {
   "cell_type": "markdown",
   "metadata": {},
   "source": [
    "New York City cuisine is an incredible mix of cuisines from around the world. Here, in every district, you can taste dishes \n",
    "of different nations.\n",
    "In Little Italy, taste authentic Italian pizza, in Chinatown - duck soup and chicken with teriyaki sauce, \n",
    "in Harlem and the Bronx - Caribbean dishes. Well, and if you are bored of your usual food - welcome to Russian restaurants \n",
    "in Brighton Beach.\n",
    "Most frequently \"bought\" dishes:\n",
    "- local hot dogs. You can buy them literally at every step, and it will be a hearty and inexpensive snack;\n",
    "- bagels. They are made from yeast dough, from which a ring is made, boiled, and then fried. Then add additional ingredients. \n",
    "For example, chocolate chips or sesame seeds. Bagels with cream cheese and a piece of salmon are very popular;\n",
    "- the famous cheesecake. This New York symbol is prepared from cream cheese, vanilla, cream and cookies, and you can taste \n",
    "it at any local cafe.\n",
    "From the above, we can conclude that the baking and fast food market in New York is the most oversaturated, \n",
    "in connection with which we will analyze the choice of a place in Manhattan to choose a place for a sushi bar."
   ]
  },
  {
   "cell_type": "markdown",
   "metadata": {},
   "source": [
    "Problem Which Tried to Solve:\n",
    "Investors contacted us to invest in the restaurant business, in particular in the sushi bar. We will determine a potential location based on the number of sushi bars that operate in each area. Manhattan is relatively expensive and has a lot of potential. A new sushi bar should be opened in a Manhattan location so that the bar can attract a lot of customers. Hence, this analysis is necessary to make sure we have enough customers and that we are not that close to other sushi bars."
   ]
  },
  {
   "cell_type": "markdown",
   "metadata": {},
   "source": [
    "Location:\n",
    "Manhattan is rightfully called the heart of New York. This area contains the main financial, cultural, institutions of the city, as well as the largest number of skyscrapers in New York, that is, a contingent of people with an average and upper middle income. With all this, Manhattan is the smallest area in terms of area.It covers only 23 square miles (59 square kilometers), on which, however, more than one and a half million people live.\n",
    "Sushi bars have become so popular in the United States over the past decade that they are now on every corner, not only in major cities, but also in small towns. Opening a sushi bar can be a great business opportunity as sushi is consumed by people of all ages."
   ]
  }
 ],
 "metadata": {
  "kernelspec": {
   "display_name": "Python 3",
   "language": "python",
   "name": "python3"
  },
  "language_info": {
   "codemirror_mode": {
    "name": "ipython",
    "version": 3
   },
   "file_extension": ".py",
   "mimetype": "text/x-python",
   "name": "python",
   "nbconvert_exporter": "python",
   "pygments_lexer": "ipython3",
   "version": "3.8.5"
  }
 },
 "nbformat": 4,
 "nbformat_minor": 4
}
